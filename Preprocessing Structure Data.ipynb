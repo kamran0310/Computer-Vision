{
 "cells": [
  {
   "cell_type": "code",
   "execution_count": 2,
   "id": "c02957ed-9858-4ffc-9c8c-7b56bf7d1e56",
   "metadata": {},
   "outputs": [],
   "source": [
    "import cv2\n",
    "import pandas as pd\n",
    "import matplotlib.pyplot as plt\n",
    "import numpy as np\n",
    "from PIL import Image\n",
    "%matplotlib inline \n",
    "from glob import glob"
   ]
  },
  {
   "cell_type": "code",
   "execution_count": 6,
   "id": "28c5c5ed-ae06-401d-b7c8-b53a49d40684",
   "metadata": {},
   "outputs": [],
   "source": [
    "female = glob('./Module-2/data/crop/female_crop/*.png')\n",
    "male = glob('./Module-2/data/crop/male_crop/*.png')"
   ]
  },
  {
   "cell_type": "code",
   "execution_count": 8,
   "id": "472dfe8c-80ac-4cd1-8ae6-da0878042434",
   "metadata": {},
   "outputs": [],
   "source": [
    "path = male + female"
   ]
  },
  {
   "cell_type": "code",
   "execution_count": 9,
   "id": "5150e323-6237-4b98-b0db-06d569e4f7f1",
   "metadata": {},
   "outputs": [
    {
     "data": {
      "text/plain": [
       "490"
      ]
     },
     "execution_count": 9,
     "metadata": {},
     "output_type": "execute_result"
    }
   ],
   "source": [
    "len(path)"
   ]
  },
  {
   "cell_type": "code",
   "execution_count": 10,
   "id": "5b308a27-3d76-423e-9a7d-6d2316883e4f",
   "metadata": {},
   "outputs": [],
   "source": [
    "img = Image.open(path[0])"
   ]
  },
  {
   "cell_type": "code",
   "execution_count": 11,
   "id": "110ad879-17fd-49a2-a37e-f6a58c8b919e",
   "metadata": {},
   "outputs": [
    {
     "data": {
      "text/plain": [
       "(122, 122)"
      ]
     },
     "execution_count": 11,
     "metadata": {},
     "output_type": "execute_result"
    }
   ],
   "source": [
    "img.size"
   ]
  },
  {
   "cell_type": "code",
   "execution_count": 22,
   "id": "f608eb57-0f74-4665-a525-8dd3962c497e",
   "metadata": {},
   "outputs": [],
   "source": [
    "def get_size(path):\n",
    "    img = Image.open(path)\n",
    "    return img.size[0]"
   ]
  },
  {
   "cell_type": "code",
   "execution_count": 23,
   "id": "fa7f5c40-7a49-4b53-a513-fa58bf294fb5",
   "metadata": {},
   "outputs": [],
   "source": [
    "df = pd.DataFrame(data=path, columns=['path'])"
   ]
  },
  {
   "cell_type": "code",
   "execution_count": 24,
   "id": "820da630-994c-4374-94f0-97d4654393a5",
   "metadata": {},
   "outputs": [
    {
     "data": {
      "text/html": [
       "<div>\n",
       "<style scoped>\n",
       "    .dataframe tbody tr th:only-of-type {\n",
       "        vertical-align: middle;\n",
       "    }\n",
       "\n",
       "    .dataframe tbody tr th {\n",
       "        vertical-align: top;\n",
       "    }\n",
       "\n",
       "    .dataframe thead th {\n",
       "        text-align: right;\n",
       "    }\n",
       "</style>\n",
       "<table border=\"1\" class=\"dataframe\">\n",
       "  <thead>\n",
       "    <tr style=\"text-align: right;\">\n",
       "      <th></th>\n",
       "      <th>path</th>\n",
       "    </tr>\n",
       "  </thead>\n",
       "  <tbody>\n",
       "    <tr>\n",
       "      <th>0</th>\n",
       "      <td>./Module-2/data/crop/male_crop\\male_1.png</td>\n",
       "    </tr>\n",
       "    <tr>\n",
       "      <th>1</th>\n",
       "      <td>./Module-2/data/crop/male_crop\\male_101.png</td>\n",
       "    </tr>\n",
       "    <tr>\n",
       "      <th>2</th>\n",
       "      <td>./Module-2/data/crop/male_crop\\male_108.png</td>\n",
       "    </tr>\n",
       "    <tr>\n",
       "      <th>3</th>\n",
       "      <td>./Module-2/data/crop/male_crop\\male_110.png</td>\n",
       "    </tr>\n",
       "    <tr>\n",
       "      <th>4</th>\n",
       "      <td>./Module-2/data/crop/male_crop\\male_114.png</td>\n",
       "    </tr>\n",
       "  </tbody>\n",
       "</table>\n",
       "</div>"
      ],
      "text/plain": [
       "                                          path\n",
       "0    ./Module-2/data/crop/male_crop\\male_1.png\n",
       "1  ./Module-2/data/crop/male_crop\\male_101.png\n",
       "2  ./Module-2/data/crop/male_crop\\male_108.png\n",
       "3  ./Module-2/data/crop/male_crop\\male_110.png\n",
       "4  ./Module-2/data/crop/male_crop\\male_114.png"
      ]
     },
     "execution_count": 24,
     "metadata": {},
     "output_type": "execute_result"
    }
   ],
   "source": [
    "df.head()"
   ]
  },
  {
   "cell_type": "code",
   "execution_count": 25,
   "id": "c3f3fe21-58b8-45d9-8b22-3368e0dece93",
   "metadata": {},
   "outputs": [],
   "source": [
    "df['size'] = df['path'].apply(get_size)"
   ]
  },
  {
   "cell_type": "code",
   "execution_count": 26,
   "id": "fcf2dbf7-4e44-415a-be85-cfde47448f45",
   "metadata": {},
   "outputs": [
    {
     "data": {
      "text/html": [
       "<div>\n",
       "<style scoped>\n",
       "    .dataframe tbody tr th:only-of-type {\n",
       "        vertical-align: middle;\n",
       "    }\n",
       "\n",
       "    .dataframe tbody tr th {\n",
       "        vertical-align: top;\n",
       "    }\n",
       "\n",
       "    .dataframe thead th {\n",
       "        text-align: right;\n",
       "    }\n",
       "</style>\n",
       "<table border=\"1\" class=\"dataframe\">\n",
       "  <thead>\n",
       "    <tr style=\"text-align: right;\">\n",
       "      <th></th>\n",
       "      <th>path</th>\n",
       "      <th>size</th>\n",
       "    </tr>\n",
       "  </thead>\n",
       "  <tbody>\n",
       "    <tr>\n",
       "      <th>0</th>\n",
       "      <td>./Module-2/data/crop/male_crop\\male_1.png</td>\n",
       "      <td>122</td>\n",
       "    </tr>\n",
       "    <tr>\n",
       "      <th>1</th>\n",
       "      <td>./Module-2/data/crop/male_crop\\male_101.png</td>\n",
       "      <td>81</td>\n",
       "    </tr>\n",
       "    <tr>\n",
       "      <th>2</th>\n",
       "      <td>./Module-2/data/crop/male_crop\\male_108.png</td>\n",
       "      <td>81</td>\n",
       "    </tr>\n",
       "    <tr>\n",
       "      <th>3</th>\n",
       "      <td>./Module-2/data/crop/male_crop\\male_110.png</td>\n",
       "      <td>81</td>\n",
       "    </tr>\n",
       "    <tr>\n",
       "      <th>4</th>\n",
       "      <td>./Module-2/data/crop/male_crop\\male_114.png</td>\n",
       "      <td>81</td>\n",
       "    </tr>\n",
       "  </tbody>\n",
       "</table>\n",
       "</div>"
      ],
      "text/plain": [
       "                                          path  size\n",
       "0    ./Module-2/data/crop/male_crop\\male_1.png   122\n",
       "1  ./Module-2/data/crop/male_crop\\male_101.png    81\n",
       "2  ./Module-2/data/crop/male_crop\\male_108.png    81\n",
       "3  ./Module-2/data/crop/male_crop\\male_110.png    81\n",
       "4  ./Module-2/data/crop/male_crop\\male_114.png    81"
      ]
     },
     "execution_count": 26,
     "metadata": {},
     "output_type": "execute_result"
    }
   ],
   "source": [
    "df.head()"
   ]
  },
  {
   "cell_type": "code",
   "execution_count": 27,
   "id": "cff89624-6b03-43fd-a607-d74fcb999714",
   "metadata": {},
   "outputs": [],
   "source": [
    "#lets explore the data"
   ]
  },
  {
   "cell_type": "code",
   "execution_count": 29,
   "id": "b06f9728-2c24-4dd5-a1e2-ca9064628fd8",
   "metadata": {},
   "outputs": [
    {
     "data": {
      "text/html": [
       "<div>\n",
       "<style scoped>\n",
       "    .dataframe tbody tr th:only-of-type {\n",
       "        vertical-align: middle;\n",
       "    }\n",
       "\n",
       "    .dataframe tbody tr th {\n",
       "        vertical-align: top;\n",
       "    }\n",
       "\n",
       "    .dataframe thead th {\n",
       "        text-align: right;\n",
       "    }\n",
       "</style>\n",
       "<table border=\"1\" class=\"dataframe\">\n",
       "  <thead>\n",
       "    <tr style=\"text-align: right;\">\n",
       "      <th></th>\n",
       "      <th>size</th>\n",
       "    </tr>\n",
       "  </thead>\n",
       "  <tbody>\n",
       "    <tr>\n",
       "      <th>count</th>\n",
       "      <td>490.000000</td>\n",
       "    </tr>\n",
       "    <tr>\n",
       "      <th>mean</th>\n",
       "      <td>158.555102</td>\n",
       "    </tr>\n",
       "    <tr>\n",
       "      <th>std</th>\n",
       "      <td>73.662651</td>\n",
       "    </tr>\n",
       "    <tr>\n",
       "      <th>min</th>\n",
       "      <td>54.000000</td>\n",
       "    </tr>\n",
       "    <tr>\n",
       "      <th>25%</th>\n",
       "      <td>81.000000</td>\n",
       "    </tr>\n",
       "    <tr>\n",
       "      <th>50%</th>\n",
       "      <td>122.000000</td>\n",
       "    </tr>\n",
       "    <tr>\n",
       "      <th>75%</th>\n",
       "      <td>182.000000</td>\n",
       "    </tr>\n",
       "    <tr>\n",
       "      <th>max</th>\n",
       "      <td>410.000000</td>\n",
       "    </tr>\n",
       "  </tbody>\n",
       "</table>\n",
       "</div>"
      ],
      "text/plain": [
       "             size\n",
       "count  490.000000\n",
       "mean   158.555102\n",
       "std     73.662651\n",
       "min     54.000000\n",
       "25%     81.000000\n",
       "50%    122.000000\n",
       "75%    182.000000\n",
       "max    410.000000"
      ]
     },
     "execution_count": 29,
     "metadata": {},
     "output_type": "execute_result"
    }
   ],
   "source": [
    "df.describe()"
   ]
  },
  {
   "cell_type": "code",
   "execution_count": 31,
   "id": "e3695dd3-0d63-4566-9eb7-ef03f205e913",
   "metadata": {},
   "outputs": [
    {
     "data": {
      "text/plain": [
       "<Axes: >"
      ]
     },
     "execution_count": 31,
     "metadata": {},
     "output_type": "execute_result"
    },
    {
     "data": {
      "image/png": "[encoded data removed]",
      "text/plain": [
       "<Figure size 640x480 with 1 Axes>"
      ]
     },
     "metadata": {},
     "output_type": "display_data"
    }
   ],
   "source": [
    "df['size'].plot(kind='box')"
   ]
  },
  {
   "cell_type": "code",
   "execution_count": 33,
   "id": "ef3813f2-96a5-42ce-8648-2b66f9158020",
   "metadata": {},
   "outputs": [
    {
     "data": {
      "image/png": "[encoded data removed]",
      "text/plain": [
       "<Figure size 640x480 with 1 Axes>"
      ]
     },
     "metadata": {},
     "output_type": "display_data"
    }
   ],
   "source": [
    "plt.hist(df['size'], bins = 30)\n",
    "plt.show()"
   ]
  },
  {
   "cell_type": "code",
   "execution_count": 34,
   "id": "76865326-bd3f-4bd7-ace2-a529adf7d8f1",
   "metadata": {},
   "outputs": [],
   "source": [
    "df_new = df[df['size']>60]"
   ]
  },
  {
   "cell_type": "code",
   "execution_count": 36,
   "id": "1136b308-6ab7-4622-b4b3-cd5d9b2f8c9f",
   "metadata": {},
   "outputs": [],
   "source": [
    "string = df_new['path'][0]"
   ]
  },
  {
   "cell_type": "code",
   "execution_count": 37,
   "id": "c6d18513-5490-461e-94f4-691aa30b4a5c",
   "metadata": {},
   "outputs": [
    {
     "data": {
      "text/plain": [
       "'./Module-2/data/crop/male_crop\\\\male_1.png'"
      ]
     },
     "execution_count": 37,
     "metadata": {},
     "output_type": "execute_result"
    }
   ],
   "source": [
    "string"
   ]
  },
  {
   "cell_type": "code",
   "execution_count": 38,
   "id": "7e242277-c748-45aa-a3e2-34ae16cd13c4",
   "metadata": {},
   "outputs": [],
   "source": [
    "def gender(string):\n",
    "    try:\n",
    "        return string.split('_')[0].split('/')[-1]\n",
    "    except:\n",
    "        return None"
   ]
  },
  {
   "cell_type": "code",
   "execution_count": 39,
   "id": "50877910-d164-4fe3-a0a4-451adb9ad549",
   "metadata": {},
   "outputs": [],
   "source": [
    "df['gender'] = df['path'].apply(gender)"
   ]
  },
  {
   "cell_type": "code",
   "execution_count": 40,
   "id": "fae6df1e-4860-4858-b27c-683a5062e6d6",
   "metadata": {},
   "outputs": [
    {
     "data": {
      "text/html": [
       "<div>\n",
       "<style scoped>\n",
       "    .dataframe tbody tr th:only-of-type {\n",
       "        vertical-align: middle;\n",
       "    }\n",
       "\n",
       "    .dataframe tbody tr th {\n",
       "        vertical-align: top;\n",
       "    }\n",
       "\n",
       "    .dataframe thead th {\n",
       "        text-align: right;\n",
       "    }\n",
       "</style>\n",
       "<table border=\"1\" class=\"dataframe\">\n",
       "  <thead>\n",
       "    <tr style=\"text-align: right;\">\n",
       "      <th></th>\n",
       "      <th>path</th>\n",
       "      <th>size</th>\n",
       "      <th>gender</th>\n",
       "    </tr>\n",
       "  </thead>\n",
       "  <tbody>\n",
       "    <tr>\n",
       "      <th>0</th>\n",
       "      <td>./Module-2/data/crop/male_crop\\male_1.png</td>\n",
       "      <td>122</td>\n",
       "      <td>male</td>\n",
       "    </tr>\n",
       "    <tr>\n",
       "      <th>1</th>\n",
       "      <td>./Module-2/data/crop/male_crop\\male_101.png</td>\n",
       "      <td>81</td>\n",
       "      <td>male</td>\n",
       "    </tr>\n",
       "    <tr>\n",
       "      <th>2</th>\n",
       "      <td>./Module-2/data/crop/male_crop\\male_108.png</td>\n",
       "      <td>81</td>\n",
       "      <td>male</td>\n",
       "    </tr>\n",
       "    <tr>\n",
       "      <th>3</th>\n",
       "      <td>./Module-2/data/crop/male_crop\\male_110.png</td>\n",
       "      <td>81</td>\n",
       "      <td>male</td>\n",
       "    </tr>\n",
       "    <tr>\n",
       "      <th>4</th>\n",
       "      <td>./Module-2/data/crop/male_crop\\male_114.png</td>\n",
       "      <td>81</td>\n",
       "      <td>male</td>\n",
       "    </tr>\n",
       "  </tbody>\n",
       "</table>\n",
       "</div>"
      ],
      "text/plain": [
       "                                          path  size gender\n",
       "0    ./Module-2/data/crop/male_crop\\male_1.png   122   male\n",
       "1  ./Module-2/data/crop/male_crop\\male_101.png    81   male\n",
       "2  ./Module-2/data/crop/male_crop\\male_108.png    81   male\n",
       "3  ./Module-2/data/crop/male_crop\\male_110.png    81   male\n",
       "4  ./Module-2/data/crop/male_crop\\male_114.png    81   male"
      ]
     },
     "execution_count": 40,
     "metadata": {},
     "output_type": "execute_result"
    }
   ],
   "source": [
    "df.head()"
   ]
  },
  {
   "cell_type": "code",
   "execution_count": 42,
   "id": "1a0f4266-55f2-4b4d-b850-4eda1a390541",
   "metadata": {},
   "outputs": [
    {
     "data": {
      "text/html": [
       "<div>\n",
       "<style scoped>\n",
       "    .dataframe tbody tr th:only-of-type {\n",
       "        vertical-align: middle;\n",
       "    }\n",
       "\n",
       "    .dataframe tbody tr th {\n",
       "        vertical-align: top;\n",
       "    }\n",
       "\n",
       "    .dataframe thead th {\n",
       "        text-align: right;\n",
       "    }\n",
       "</style>\n",
       "<table border=\"1\" class=\"dataframe\">\n",
       "  <thead>\n",
       "    <tr style=\"text-align: right;\">\n",
       "      <th></th>\n",
       "      <th>path</th>\n",
       "      <th>size</th>\n",
       "      <th>gender</th>\n",
       "    </tr>\n",
       "  </thead>\n",
       "  <tbody>\n",
       "    <tr>\n",
       "      <th>485</th>\n",
       "      <td>./Module-2/data/crop/female_crop\\female_82.png</td>\n",
       "      <td>182</td>\n",
       "      <td>female</td>\n",
       "    </tr>\n",
       "    <tr>\n",
       "      <th>486</th>\n",
       "      <td>./Module-2/data/crop/female_crop\\female_85.png</td>\n",
       "      <td>182</td>\n",
       "      <td>female</td>\n",
       "    </tr>\n",
       "    <tr>\n",
       "      <th>487</th>\n",
       "      <td>./Module-2/data/crop/female_crop\\female_92.png</td>\n",
       "      <td>273</td>\n",
       "      <td>female</td>\n",
       "    </tr>\n",
       "    <tr>\n",
       "      <th>488</th>\n",
       "      <td>./Module-2/data/crop/female_crop\\female_98.png</td>\n",
       "      <td>122</td>\n",
       "      <td>female</td>\n",
       "    </tr>\n",
       "    <tr>\n",
       "      <th>489</th>\n",
       "      <td>./Module-2/data/crop/female_crop\\female_99.png</td>\n",
       "      <td>182</td>\n",
       "      <td>female</td>\n",
       "    </tr>\n",
       "  </tbody>\n",
       "</table>\n",
       "</div>"
      ],
      "text/plain": [
       "                                               path  size  gender\n",
       "485  ./Module-2/data/crop/female_crop\\female_82.png   182  female\n",
       "486  ./Module-2/data/crop/female_crop\\female_85.png   182  female\n",
       "487  ./Module-2/data/crop/female_crop\\female_92.png   273  female\n",
       "488  ./Module-2/data/crop/female_crop\\female_98.png   122  female\n",
       "489  ./Module-2/data/crop/female_crop\\female_99.png   182  female"
      ]
     },
     "execution_count": 42,
     "metadata": {},
     "output_type": "execute_result"
    }
   ],
   "source": [
    "df.tail()"
   ]
  },
  {
   "cell_type": "code",
   "execution_count": 46,
   "id": "8e929876-057b-4ed4-ac0b-12e54541e6db",
   "metadata": {},
   "outputs": [
    {
     "name": "stdout",
     "output_type": "stream",
     "text": [
      "gender\n",
      "female    0.510204\n",
      "male      0.489796\n",
      "Name: proportion, dtype: float64\n"
     ]
    }
   ],
   "source": [
    "print(df['gender'].value_counts(normalize=True))"
   ]
  },
  {
   "cell_type": "code",
   "execution_count": 47,
   "id": "d62bec98-6d2f-481e-b8ac-b825f768eeb8",
   "metadata": {},
   "outputs": [
    {
     "data": {
      "text/plain": [
       "<Axes: xlabel='gender'>"
      ]
     },
     "execution_count": 47,
     "metadata": {},
     "output_type": "execute_result"
    },
    {
     "data": {
      "image/png": "[encoded data removed]",
      "text/plain": [
       "<Figure size 640x480 with 1 Axes>"
      ]
     },
     "metadata": {},
     "output_type": "display_data"
    }
   ],
   "source": [
    "df['gender'].value_counts(normalize=True).plot(kind='bar')"
   ]
  },
  {
   "cell_type": "code",
   "execution_count": 49,
   "id": "1df8a998-1a57-4cf9-8e1d-0cfd746db970",
   "metadata": {},
   "outputs": [],
   "source": [
    "def resize_img(path_to_resize):\n",
    "    try: \n",
    "        img = cv2.imread(path_to_resize)\n",
    "        gray = cv2.cvtColor(img, cv2.COLOR_BGR2GRAY)\n",
    "        size = gray.shape[0]\n",
    "        \n",
    "        if size >=100:\n",
    "            gray_re = cv2.resize(gray, (100,100), cv2.INTER_AREA)\n",
    "        else:\n",
    "            gray_re = cv2.resize(gray, (100,100), cv2.INTER_CUBIC)\n",
    "        return gray_re.flatten()\n",
    "    except:\n",
    "        return None\n",
    "    "
   ]
  },
  {
   "cell_type": "code",
   "execution_count": 51,
   "id": "bef48cba-e6e6-4f66-afcd-85a97e1c4b98",
   "metadata": {},
   "outputs": [
    {
     "data": {
      "text/plain": [
       "10000"
      ]
     },
     "execution_count": 51,
     "metadata": {},
     "output_type": "execute_result"
    }
   ],
   "source": [
    "len(resize_img(path[0]))"
   ]
  },
  {
   "cell_type": "code",
   "execution_count": 53,
   "id": "3b5906b4-8668-4db2-9126-394c18da0fe8",
   "metadata": {},
   "outputs": [
    {
     "name": "stderr",
     "output_type": "stream",
     "text": [
      "C:\\Users\\Admin\\AppData\\Local\\Temp\\ipykernel_2132\\2870237434.py:1: SettingWithCopyWarning: \n",
      "A value is trying to be set on a copy of a slice from a DataFrame.\n",
      "Try using .loc[row_indexer,col_indexer] = value instead\n",
      "\n",
      "See the caveats in the documentation: https://pandas.pydata.org/pandas-docs/stable/user_guide/indexing.html#returning-a-view-versus-a-copy\n",
      "  df_new['gender'] = df_new['path'].apply(gender)\n"
     ]
    }
   ],
   "source": [
    "df_new['gender'] = df_new['path'].apply(gender)"
   ]
  },
  {
   "cell_type": "code",
   "execution_count": 54,
   "id": "d316a7de-3307-4989-9cb1-4251c4eb03ef",
   "metadata": {},
   "outputs": [
    {
     "data": {
      "text/html": [
       "<div>\n",
       "<style scoped>\n",
       "    .dataframe tbody tr th:only-of-type {\n",
       "        vertical-align: middle;\n",
       "    }\n",
       "\n",
       "    .dataframe tbody tr th {\n",
       "        vertical-align: top;\n",
       "    }\n",
       "\n",
       "    .dataframe thead th {\n",
       "        text-align: right;\n",
       "    }\n",
       "</style>\n",
       "<table border=\"1\" class=\"dataframe\">\n",
       "  <thead>\n",
       "    <tr style=\"text-align: right;\">\n",
       "      <th></th>\n",
       "      <th>path</th>\n",
       "      <th>size</th>\n",
       "      <th>gender</th>\n",
       "    </tr>\n",
       "  </thead>\n",
       "  <tbody>\n",
       "    <tr>\n",
       "      <th>0</th>\n",
       "      <td>./Module-2/data/crop/male_crop\\male_1.png</td>\n",
       "      <td>122</td>\n",
       "      <td>male</td>\n",
       "    </tr>\n",
       "    <tr>\n",
       "      <th>1</th>\n",
       "      <td>./Module-2/data/crop/male_crop\\male_101.png</td>\n",
       "      <td>81</td>\n",
       "      <td>male</td>\n",
       "    </tr>\n",
       "    <tr>\n",
       "      <th>2</th>\n",
       "      <td>./Module-2/data/crop/male_crop\\male_108.png</td>\n",
       "      <td>81</td>\n",
       "      <td>male</td>\n",
       "    </tr>\n",
       "    <tr>\n",
       "      <th>3</th>\n",
       "      <td>./Module-2/data/crop/male_crop\\male_110.png</td>\n",
       "      <td>81</td>\n",
       "      <td>male</td>\n",
       "    </tr>\n",
       "    <tr>\n",
       "      <th>4</th>\n",
       "      <td>./Module-2/data/crop/male_crop\\male_114.png</td>\n",
       "      <td>81</td>\n",
       "      <td>male</td>\n",
       "    </tr>\n",
       "  </tbody>\n",
       "</table>\n",
       "</div>"
      ],
      "text/plain": [
       "                                          path  size gender\n",
       "0    ./Module-2/data/crop/male_crop\\male_1.png   122   male\n",
       "1  ./Module-2/data/crop/male_crop\\male_101.png    81   male\n",
       "2  ./Module-2/data/crop/male_crop\\male_108.png    81   male\n",
       "3  ./Module-2/data/crop/male_crop\\male_110.png    81   male\n",
       "4  ./Module-2/data/crop/male_crop\\male_114.png    81   male"
      ]
     },
     "execution_count": 54,
     "metadata": {},
     "output_type": "execute_result"
    }
   ],
   "source": [
    "df_new.head()"
   ]
  },
  {
   "cell_type": "code",
   "execution_count": 55,
   "id": "8a9b607a-87f6-40c1-88c3-2764041d79f2",
   "metadata": {},
   "outputs": [
    {
     "name": "stderr",
     "output_type": "stream",
     "text": [
      "C:\\Users\\Admin\\AppData\\Local\\Temp\\ipykernel_2132\\2814634373.py:1: SettingWithCopyWarning: \n",
      "A value is trying to be set on a copy of a slice from a DataFrame.\n",
      "Try using .loc[row_indexer,col_indexer] = value instead\n",
      "\n",
      "See the caveats in the documentation: https://pandas.pydata.org/pandas-docs/stable/user_guide/indexing.html#returning-a-view-versus-a-copy\n",
      "  df_new['structure_data'] = df_new['path'].apply(resize_img)\n"
     ]
    }
   ],
   "source": [
    "df_new['structure_data'] = df_new['path'].apply(resize_img)"
   ]
  },
  {
   "cell_type": "code",
   "execution_count": 56,
   "id": "261d6476-b239-4d25-88df-b4b9e551a9e0",
   "metadata": {},
   "outputs": [
    {
     "data": {
      "text/html": [
       "<div>\n",
       "<style scoped>\n",
       "    .dataframe tbody tr th:only-of-type {\n",
       "        vertical-align: middle;\n",
       "    }\n",
       "\n",
       "    .dataframe tbody tr th {\n",
       "        vertical-align: top;\n",
       "    }\n",
       "\n",
       "    .dataframe thead th {\n",
       "        text-align: right;\n",
       "    }\n",
       "</style>\n",
       "<table border=\"1\" class=\"dataframe\">\n",
       "  <thead>\n",
       "    <tr style=\"text-align: right;\">\n",
       "      <th></th>\n",
       "      <th>path</th>\n",
       "      <th>size</th>\n",
       "      <th>gender</th>\n",
       "      <th>structure_data</th>\n",
       "    </tr>\n",
       "  </thead>\n",
       "  <tbody>\n",
       "    <tr>\n",
       "      <th>0</th>\n",
       "      <td>./Module-2/data/crop/male_crop\\male_1.png</td>\n",
       "      <td>122</td>\n",
       "      <td>male</td>\n",
       "      <td>[98, 104, 114, 121, 124, 135, 147, 154, 156, 1...</td>\n",
       "    </tr>\n",
       "    <tr>\n",
       "      <th>1</th>\n",
       "      <td>./Module-2/data/crop/male_crop\\male_101.png</td>\n",
       "      <td>81</td>\n",
       "      <td>male</td>\n",
       "      <td>[20, 24, 27, 29, 29, 31, 21, 23, 29, 30, 16, 1...</td>\n",
       "    </tr>\n",
       "    <tr>\n",
       "      <th>2</th>\n",
       "      <td>./Module-2/data/crop/male_crop\\male_108.png</td>\n",
       "      <td>81</td>\n",
       "      <td>male</td>\n",
       "      <td>[69, 63, 64, 69, 69, 55, 73, 77, 71, 63, 61, 6...</td>\n",
       "    </tr>\n",
       "    <tr>\n",
       "      <th>3</th>\n",
       "      <td>./Module-2/data/crop/male_crop\\male_110.png</td>\n",
       "      <td>81</td>\n",
       "      <td>male</td>\n",
       "      <td>[136, 135, 134, 133, 132, 123, 130, 147, 147, ...</td>\n",
       "    </tr>\n",
       "    <tr>\n",
       "      <th>4</th>\n",
       "      <td>./Module-2/data/crop/male_crop\\male_114.png</td>\n",
       "      <td>81</td>\n",
       "      <td>male</td>\n",
       "      <td>[75, 75, 75, 75, 75, 75, 75, 75, 75, 75, 75, 7...</td>\n",
       "    </tr>\n",
       "  </tbody>\n",
       "</table>\n",
       "</div>"
      ],
      "text/plain": [
       "                                          path  size gender  \\\n",
       "0    ./Module-2/data/crop/male_crop\\male_1.png   122   male   \n",
       "1  ./Module-2/data/crop/male_crop\\male_101.png    81   male   \n",
       "2  ./Module-2/data/crop/male_crop\\male_108.png    81   male   \n",
       "3  ./Module-2/data/crop/male_crop\\male_110.png    81   male   \n",
       "4  ./Module-2/data/crop/male_crop\\male_114.png    81   male   \n",
       "\n",
       "                                      structure_data  \n",
       "0  [98, 104, 114, 121, 124, 135, 147, 154, 156, 1...  \n",
       "1  [20, 24, 27, 29, 29, 31, 21, 23, 29, 30, 16, 1...  \n",
       "2  [69, 63, 64, 69, 69, 55, 73, 77, 71, 63, 61, 6...  \n",
       "3  [136, 135, 134, 133, 132, 123, 130, 147, 147, ...  \n",
       "4  [75, 75, 75, 75, 75, 75, 75, 75, 75, 75, 75, 7...  "
      ]
     },
     "execution_count": 56,
     "metadata": {},
     "output_type": "execute_result"
    }
   ],
   "source": [
    "df_new.head()"
   ]
  },
  {
   "cell_type": "code",
   "execution_count": 58,
   "id": "667e0530-c60d-4257-a32b-689217f67a9a",
   "metadata": {},
   "outputs": [],
   "source": [
    "df1 = df_new['structure_data'].apply(pd.Series)"
   ]
  },
  {
   "cell_type": "code",
   "execution_count": 59,
   "id": "36439545-c79c-4e35-b7b8-2dd7537272e8",
   "metadata": {},
   "outputs": [
    {
     "data": {
      "text/html": [
       "<div>\n",
       "<style scoped>\n",
       "    .dataframe tbody tr th:only-of-type {\n",
       "        vertical-align: middle;\n",
       "    }\n",
       "\n",
       "    .dataframe tbody tr th {\n",
       "        vertical-align: top;\n",
       "    }\n",
       "\n",
       "    .dataframe thead th {\n",
       "        text-align: right;\n",
       "    }\n",
       "</style>\n",
       "<table border=\"1\" class=\"dataframe\">\n",
       "  <thead>\n",
       "    <tr style=\"text-align: right;\">\n",
       "      <th></th>\n",
       "      <th>0</th>\n",
       "      <th>1</th>\n",
       "      <th>2</th>\n",
       "      <th>3</th>\n",
       "      <th>4</th>\n",
       "      <th>5</th>\n",
       "      <th>6</th>\n",
       "      <th>7</th>\n",
       "      <th>8</th>\n",
       "      <th>9</th>\n",
       "      <th>...</th>\n",
       "      <th>9990</th>\n",
       "      <th>9991</th>\n",
       "      <th>9992</th>\n",
       "      <th>9993</th>\n",
       "      <th>9994</th>\n",
       "      <th>9995</th>\n",
       "      <th>9996</th>\n",
       "      <th>9997</th>\n",
       "      <th>9998</th>\n",
       "      <th>9999</th>\n",
       "    </tr>\n",
       "  </thead>\n",
       "  <tbody>\n",
       "    <tr>\n",
       "      <th>0</th>\n",
       "      <td>98</td>\n",
       "      <td>104</td>\n",
       "      <td>114</td>\n",
       "      <td>121</td>\n",
       "      <td>124</td>\n",
       "      <td>135</td>\n",
       "      <td>147</td>\n",
       "      <td>154</td>\n",
       "      <td>156</td>\n",
       "      <td>154</td>\n",
       "      <td>...</td>\n",
       "      <td>132</td>\n",
       "      <td>135</td>\n",
       "      <td>139</td>\n",
       "      <td>146</td>\n",
       "      <td>151</td>\n",
       "      <td>152</td>\n",
       "      <td>148</td>\n",
       "      <td>145</td>\n",
       "      <td>147</td>\n",
       "      <td>148</td>\n",
       "    </tr>\n",
       "    <tr>\n",
       "      <th>1</th>\n",
       "      <td>20</td>\n",
       "      <td>24</td>\n",
       "      <td>27</td>\n",
       "      <td>29</td>\n",
       "      <td>29</td>\n",
       "      <td>31</td>\n",
       "      <td>21</td>\n",
       "      <td>23</td>\n",
       "      <td>29</td>\n",
       "      <td>30</td>\n",
       "      <td>...</td>\n",
       "      <td>38</td>\n",
       "      <td>32</td>\n",
       "      <td>25</td>\n",
       "      <td>22</td>\n",
       "      <td>32</td>\n",
       "      <td>25</td>\n",
       "      <td>19</td>\n",
       "      <td>20</td>\n",
       "      <td>32</td>\n",
       "      <td>48</td>\n",
       "    </tr>\n",
       "    <tr>\n",
       "      <th>2</th>\n",
       "      <td>69</td>\n",
       "      <td>63</td>\n",
       "      <td>64</td>\n",
       "      <td>69</td>\n",
       "      <td>69</td>\n",
       "      <td>55</td>\n",
       "      <td>73</td>\n",
       "      <td>77</td>\n",
       "      <td>71</td>\n",
       "      <td>63</td>\n",
       "      <td>...</td>\n",
       "      <td>184</td>\n",
       "      <td>183</td>\n",
       "      <td>183</td>\n",
       "      <td>184</td>\n",
       "      <td>184</td>\n",
       "      <td>187</td>\n",
       "      <td>188</td>\n",
       "      <td>189</td>\n",
       "      <td>190</td>\n",
       "      <td>189</td>\n",
       "    </tr>\n",
       "    <tr>\n",
       "      <th>3</th>\n",
       "      <td>136</td>\n",
       "      <td>135</td>\n",
       "      <td>134</td>\n",
       "      <td>133</td>\n",
       "      <td>132</td>\n",
       "      <td>123</td>\n",
       "      <td>130</td>\n",
       "      <td>147</td>\n",
       "      <td>147</td>\n",
       "      <td>113</td>\n",
       "      <td>...</td>\n",
       "      <td>107</td>\n",
       "      <td>109</td>\n",
       "      <td>110</td>\n",
       "      <td>112</td>\n",
       "      <td>116</td>\n",
       "      <td>113</td>\n",
       "      <td>111</td>\n",
       "      <td>109</td>\n",
       "      <td>110</td>\n",
       "      <td>112</td>\n",
       "    </tr>\n",
       "    <tr>\n",
       "      <th>4</th>\n",
       "      <td>75</td>\n",
       "      <td>75</td>\n",
       "      <td>75</td>\n",
       "      <td>75</td>\n",
       "      <td>75</td>\n",
       "      <td>75</td>\n",
       "      <td>75</td>\n",
       "      <td>75</td>\n",
       "      <td>75</td>\n",
       "      <td>75</td>\n",
       "      <td>...</td>\n",
       "      <td>70</td>\n",
       "      <td>68</td>\n",
       "      <td>66</td>\n",
       "      <td>61</td>\n",
       "      <td>50</td>\n",
       "      <td>52</td>\n",
       "      <td>64</td>\n",
       "      <td>67</td>\n",
       "      <td>61</td>\n",
       "      <td>50</td>\n",
       "    </tr>\n",
       "  </tbody>\n",
       "</table>\n",
       "<p>5 rows × 10000 columns</p>\n",
       "</div>"
      ],
      "text/plain": [
       "   0     1     2     3     4     5     6     7     8     9     ...  9990  \\\n",
       "0    98   104   114   121   124   135   147   154   156   154  ...   132   \n",
       "1    20    24    27    29    29    31    21    23    29    30  ...    38   \n",
       "2    69    63    64    69    69    55    73    77    71    63  ...   184   \n",
       "3   136   135   134   133   132   123   130   147   147   113  ...   107   \n",
       "4    75    75    75    75    75    75    75    75    75    75  ...    70   \n",
       "\n",
       "   9991  9992  9993  9994  9995  9996  9997  9998  9999  \n",
       "0   135   139   146   151   152   148   145   147   148  \n",
       "1    32    25    22    32    25    19    20    32    48  \n",
       "2   183   183   184   184   187   188   189   190   189  \n",
       "3   109   110   112   116   113   111   109   110   112  \n",
       "4    68    66    61    50    52    64    67    61    50  \n",
       "\n",
       "[5 rows x 10000 columns]"
      ]
     },
     "execution_count": 59,
     "metadata": {},
     "output_type": "execute_result"
    }
   ],
   "source": [
    "df1.head()"
   ]
  },
  {
   "cell_type": "code",
   "execution_count": 60,
   "id": "b703cf5a-4487-4ab1-b4da-21289762d09f",
   "metadata": {},
   "outputs": [],
   "source": [
    "df2 = pd.concat((df_new['gender'], df1), axis=1)"
   ]
  },
  {
   "cell_type": "code",
   "execution_count": 61,
   "id": "e24ac266-2e54-4ea2-a62e-be60e5b684b2",
   "metadata": {},
   "outputs": [
    {
     "data": {
      "text/html": [
       "<div>\n",
       "<style scoped>\n",
       "    .dataframe tbody tr th:only-of-type {\n",
       "        vertical-align: middle;\n",
       "    }\n",
       "\n",
       "    .dataframe tbody tr th {\n",
       "        vertical-align: top;\n",
       "    }\n",
       "\n",
       "    .dataframe thead th {\n",
       "        text-align: right;\n",
       "    }\n",
       "</style>\n",
       "<table border=\"1\" class=\"dataframe\">\n",
       "  <thead>\n",
       "    <tr style=\"text-align: right;\">\n",
       "      <th></th>\n",
       "      <th>gender</th>\n",
       "      <th>0</th>\n",
       "      <th>1</th>\n",
       "      <th>2</th>\n",
       "      <th>3</th>\n",
       "      <th>4</th>\n",
       "      <th>5</th>\n",
       "      <th>6</th>\n",
       "      <th>7</th>\n",
       "      <th>8</th>\n",
       "      <th>...</th>\n",
       "      <th>9990</th>\n",
       "      <th>9991</th>\n",
       "      <th>9992</th>\n",
       "      <th>9993</th>\n",
       "      <th>9994</th>\n",
       "      <th>9995</th>\n",
       "      <th>9996</th>\n",
       "      <th>9997</th>\n",
       "      <th>9998</th>\n",
       "      <th>9999</th>\n",
       "    </tr>\n",
       "  </thead>\n",
       "  <tbody>\n",
       "    <tr>\n",
       "      <th>0</th>\n",
       "      <td>male</td>\n",
       "      <td>98</td>\n",
       "      <td>104</td>\n",
       "      <td>114</td>\n",
       "      <td>121</td>\n",
       "      <td>124</td>\n",
       "      <td>135</td>\n",
       "      <td>147</td>\n",
       "      <td>154</td>\n",
       "      <td>156</td>\n",
       "      <td>...</td>\n",
       "      <td>132</td>\n",
       "      <td>135</td>\n",
       "      <td>139</td>\n",
       "      <td>146</td>\n",
       "      <td>151</td>\n",
       "      <td>152</td>\n",
       "      <td>148</td>\n",
       "      <td>145</td>\n",
       "      <td>147</td>\n",
       "      <td>148</td>\n",
       "    </tr>\n",
       "    <tr>\n",
       "      <th>1</th>\n",
       "      <td>male</td>\n",
       "      <td>20</td>\n",
       "      <td>24</td>\n",
       "      <td>27</td>\n",
       "      <td>29</td>\n",
       "      <td>29</td>\n",
       "      <td>31</td>\n",
       "      <td>21</td>\n",
       "      <td>23</td>\n",
       "      <td>29</td>\n",
       "      <td>...</td>\n",
       "      <td>38</td>\n",
       "      <td>32</td>\n",
       "      <td>25</td>\n",
       "      <td>22</td>\n",
       "      <td>32</td>\n",
       "      <td>25</td>\n",
       "      <td>19</td>\n",
       "      <td>20</td>\n",
       "      <td>32</td>\n",
       "      <td>48</td>\n",
       "    </tr>\n",
       "    <tr>\n",
       "      <th>2</th>\n",
       "      <td>male</td>\n",
       "      <td>69</td>\n",
       "      <td>63</td>\n",
       "      <td>64</td>\n",
       "      <td>69</td>\n",
       "      <td>69</td>\n",
       "      <td>55</td>\n",
       "      <td>73</td>\n",
       "      <td>77</td>\n",
       "      <td>71</td>\n",
       "      <td>...</td>\n",
       "      <td>184</td>\n",
       "      <td>183</td>\n",
       "      <td>183</td>\n",
       "      <td>184</td>\n",
       "      <td>184</td>\n",
       "      <td>187</td>\n",
       "      <td>188</td>\n",
       "      <td>189</td>\n",
       "      <td>190</td>\n",
       "      <td>189</td>\n",
       "    </tr>\n",
       "    <tr>\n",
       "      <th>3</th>\n",
       "      <td>male</td>\n",
       "      <td>136</td>\n",
       "      <td>135</td>\n",
       "      <td>134</td>\n",
       "      <td>133</td>\n",
       "      <td>132</td>\n",
       "      <td>123</td>\n",
       "      <td>130</td>\n",
       "      <td>147</td>\n",
       "      <td>147</td>\n",
       "      <td>...</td>\n",
       "      <td>107</td>\n",
       "      <td>109</td>\n",
       "      <td>110</td>\n",
       "      <td>112</td>\n",
       "      <td>116</td>\n",
       "      <td>113</td>\n",
       "      <td>111</td>\n",
       "      <td>109</td>\n",
       "      <td>110</td>\n",
       "      <td>112</td>\n",
       "    </tr>\n",
       "    <tr>\n",
       "      <th>4</th>\n",
       "      <td>male</td>\n",
       "      <td>75</td>\n",
       "      <td>75</td>\n",
       "      <td>75</td>\n",
       "      <td>75</td>\n",
       "      <td>75</td>\n",
       "      <td>75</td>\n",
       "      <td>75</td>\n",
       "      <td>75</td>\n",
       "      <td>75</td>\n",
       "      <td>...</td>\n",
       "      <td>70</td>\n",
       "      <td>68</td>\n",
       "      <td>66</td>\n",
       "      <td>61</td>\n",
       "      <td>50</td>\n",
       "      <td>52</td>\n",
       "      <td>64</td>\n",
       "      <td>67</td>\n",
       "      <td>61</td>\n",
       "      <td>50</td>\n",
       "    </tr>\n",
       "  </tbody>\n",
       "</table>\n",
       "<p>5 rows × 10001 columns</p>\n",
       "</div>"
      ],
      "text/plain": [
       "  gender    0    1    2    3    4    5    6    7    8  ...  9990  9991  9992  \\\n",
       "0   male   98  104  114  121  124  135  147  154  156  ...   132   135   139   \n",
       "1   male   20   24   27   29   29   31   21   23   29  ...    38    32    25   \n",
       "2   male   69   63   64   69   69   55   73   77   71  ...   184   183   183   \n",
       "3   male  136  135  134  133  132  123  130  147  147  ...   107   109   110   \n",
       "4   male   75   75   75   75   75   75   75   75   75  ...    70    68    66   \n",
       "\n",
       "   9993  9994  9995  9996  9997  9998  9999  \n",
       "0   146   151   152   148   145   147   148  \n",
       "1    22    32    25    19    20    32    48  \n",
       "2   184   184   187   188   189   190   189  \n",
       "3   112   116   113   111   109   110   112  \n",
       "4    61    50    52    64    67    61    50  \n",
       "\n",
       "[5 rows x 10001 columns]"
      ]
     },
     "execution_count": 61,
     "metadata": {},
     "output_type": "execute_result"
    }
   ],
   "source": [
    "df2.head()"
   ]
  },
  {
   "cell_type": "code",
   "execution_count": 62,
   "id": "e2bb6049-297a-4c73-8e60-2c1d9aa2365e",
   "metadata": {},
   "outputs": [
    {
     "data": {
      "image/png": "[encoded data removed]",
      "text/plain": [
       "<Figure size 640x480 with 1 Axes>"
      ]
     },
     "metadata": {},
     "output_type": "display_data"
    }
   ],
   "source": [
    "plt.imshow(df2.loc[0][1:].values.reshape(100,100).astype('int'), cmap='gray')\n",
    "plt.title('Labels: ' + df2.loc[0]['gender'])\n",
    "plt.show()"
   ]
  },
  {
   "cell_type": "code",
   "execution_count": 63,
   "id": "87df2ea9-1cf0-4eda-a018-7123f10957f6",
   "metadata": {},
   "outputs": [],
   "source": [
    "import pickle"
   ]
  },
  {
   "cell_type": "code",
   "execution_count": 64,
   "id": "635dab37-adbe-43a4-89e6-fa50ad559fef",
   "metadata": {},
   "outputs": [],
   "source": [
    "pickle.dump(df2, open('./Module-2/data/dataframe_images_100_100.pickle', 'wb'))"
   ]
  },
  {
   "cell_type": "code",
   "execution_count": null,
   "id": "138e280f-e3aa-4412-836e-731fe7b7c96b",
   "metadata": {},
   "outputs": [],
   "source": []
  }
 ],
 "metadata": {
  "kernelspec": {
   "display_name": "Python 3 (ipykernel)",
   "language": "python",
   "name": "python3"
  },
  "language_info": {
   "codemirror_mode": {
    "name": "ipython",
    "version": 3
   },
   "file_extension": ".py",
   "mimetype": "text/x-python",
   "name": "python",
   "nbconvert_exporter": "python",
   "pygments_lexer": "ipython3",
   "version": "3.12.7"
  }
 },
 "nbformat": 4,
 "nbformat_minor": 5
}
